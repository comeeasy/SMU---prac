{
 "cells": [
  {
   "cell_type": "code",
   "execution_count": 1,
   "metadata": {
    "collapsed": true
   },
   "outputs": [],
   "source": [
    "import torch\n",
    "import torch.nn as nn\n",
    "import torch.optim as optim\n",
    "import torchvision.datasets as dset\n",
    "import torchvision.transforms as transforms\n",
    "from torch.utils.data import DataLoader\n",
    "from torch.autograd import Variable\n",
    "import matplotlib.pyplot as plt\n",
    "%matplotlib inline\n",
    "import numpy as np"
   ]
  },
  {
   "cell_type": "markdown",
   "source": [
    "# 1. MNIST train, test dataset 가져오기"
   ],
   "metadata": {
    "collapsed": false,
    "pycharm": {
     "name": "#%% md\n"
    }
   }
  },
  {
   "cell_type": "code",
   "execution_count": 2,
   "outputs": [],
   "source": [
    "# \"\": 현재 폴더에 MNIST 있음\n",
    "mnist_train = dset.MNIST(root=\"\",\n",
    "                         train=True,\n",
    "                         transform=transforms.ToTensor(),\n",
    "                         target_transform=None,\n",
    "                         download=True)\n",
    "mnist_test  = dset.MNIST(root=\"\",\n",
    "                         train=False,\n",
    "                         transform=transforms.ToTensor(),\n",
    "                         target_transform=None,\n",
    "                         download=True)"
   ],
   "metadata": {
    "collapsed": false,
    "pycharm": {
     "name": "#%%\n"
    }
   }
  },
  {
   "cell_type": "markdown",
   "source": [
    "# 2. 대략적인 데이터 형태"
   ],
   "metadata": {
    "collapsed": false,
    "pycharm": {
     "name": "#%% md\n"
    }
   }
  },
  {
   "cell_type": "code",
   "execution_count": 3,
   "outputs": [
    {
     "name": "stdout",
     "output_type": "stream",
     "text": [
      "mnist_train 길이:60000\n",
      "mnist_test  길이:10000\n",
      "image data 형태:torch.Size([1, 28, 28])\n",
      "label:5\n"
     ]
    },
    {
     "data": {
      "text/plain": "<Figure size 432x288 with 1 Axes>",
      "image/png": "[encoded data removed]"
     },
     "metadata": {
      "needs_background": "light"
     },
     "output_type": "display_data"
    }
   ],
   "source": [
    "print(f'mnist_train 길이:{len(mnist_train)}')\n",
    "print(f'mnist_test  길이:{len(mnist_test)}')\n",
    "\n",
    "# 데이터 하나 형태\n",
    "image, label = mnist_train.__getitem__(0)\n",
    "print(f'image data 형태:{image.shape}')\n",
    "print(f'label:{label}')\n",
    "\n",
    "# 그리기\n",
    "image = image.numpy()\n",
    "plt.title(f'label : {label}')\n",
    "plt.imshow(image[0], cmap='gray')\n",
    "plt.show()"
   ],
   "metadata": {
    "collapsed": false,
    "pycharm": {
     "name": "#%%\n"
    }
   }
  },
  {
   "cell_type": "markdown",
   "source": [
    "# 3. 데이터 로드 함수"
   ],
   "metadata": {
    "collapsed": false,
    "pycharm": {
     "name": "#%% md\n"
    }
   }
  },
  {
   "cell_type": "code",
   "execution_count": 22,
   "outputs": [
    {
     "name": "stdout",
     "output_type": "stream",
     "text": [
      "[INFO] train with cuda\n"
     ]
    }
   ],
   "source": [
    "# hyper parameter\n",
    "batch_size = 64\n",
    "learning_rate = 1e-2\n",
    "epochs = 100\n",
    "\n",
    "device = 'cuda' if torch.cuda.is_available() else 'cpu'\n",
    "print(f'[INFO] train with {device}')\n",
    "\n",
    "train_loader = DataLoader(dataset=mnist_train,\n",
    "                          batch_size=batch_size,\n",
    "                          shuffle=True,\n",
    "                          num_workers=4,\n",
    "                          drop_last=True)\n",
    "test_loader  = DataLoader(dataset=mnist_test,\n",
    "                          batch_size=batch_size,\n",
    "                          shuffle=False,\n",
    "                          num_workers=4,\n",
    "                          drop_last=True)\n",
    "\n",
    "# num_workers 는 학습시 데이터를 cpu에서 gpu로 넘겨줄 core의 수를 의미한다."
   ],
   "metadata": {
    "collapsed": false,
    "pycharm": {
     "name": "#%%\n"
    }
   }
  },
  {
   "cell_type": "code",
   "execution_count": 5,
   "outputs": [],
   "source": [
    "## dataloader 이해하기"
   ],
   "metadata": {
    "collapsed": false,
    "pycharm": {
     "name": "#%%\n"
    }
   }
  },
  {
   "cell_type": "code",
   "execution_count": 6,
   "outputs": [
    {
     "name": "stdout",
     "output_type": "stream",
     "text": [
      "[0]\n",
      "한 번에 로드되는 데이터 크기:64\n",
      "[1]\n",
      "한 번에 로드되는 데이터 크기:64\n",
      "[2]\n",
      "한 번에 로드되는 데이터 크기:64\n",
      "[3]\n",
      "한 번에 로드되는 데이터 크기:64\n",
      "[4]\n",
      "한 번에 로드되는 데이터 크기:64\n",
      "[5]\n",
      "한 번에 로드되는 데이터 크기:64\n"
     ]
    },
    {
     "data": {
      "text/plain": "<Figure size 432x288 with 3 Axes>",
      "image/png": "[encoded data removed]"
     },
     "metadata": {
      "needs_background": "light"
     },
     "output_type": "display_data"
    },
    {
     "data": {
      "text/plain": "<Figure size 432x288 with 3 Axes>",
      "image/png": "[encoded data removed]"
     },
     "metadata": {
      "needs_background": "light"
     },
     "output_type": "display_data"
    },
    {
     "data": {
      "text/plain": "<Figure size 432x288 with 3 Axes>",
      "image/png": "[encoded data removed]"
     },
     "metadata": {
      "needs_background": "light"
     },
     "output_type": "display_data"
    },
    {
     "data": {
      "text/plain": "<Figure size 432x288 with 3 Axes>",
      "image/png": "[encoded data removed]"
     },
     "metadata": {
      "needs_background": "light"
     },
     "output_type": "display_data"
    },
    {
     "data": {
      "text/plain": "<Figure size 432x288 with 3 Axes>",
      "image/png": "[encoded data removed]"
     },
     "metadata": {
      "needs_background": "light"
     },
     "output_type": "display_data"
    },
    {
     "data": {
      "text/plain": "<Figure size 432x288 with 3 Axes>",
      "image/png": "[encoded data removed]"
     },
     "metadata": {
      "needs_background": "light"
     },
     "output_type": "display_data"
    }
   ],
   "source": [
    "n = 3\n",
    "for i, [imgs, labels] in enumerate(test_loader):\n",
    "    if i > 5:\n",
    "        break\n",
    "\n",
    "    print(f'[{i}]')\n",
    "    print(f'한 번에 로드되는 데이터 크기:{len(imgs)}')\n",
    "\n",
    "    # 그리기\n",
    "    for j in range(n):\n",
    "        img = imgs[j].numpy()\n",
    "\n",
    "        plt.subplot(1, n, j+1)\n",
    "        plt.imshow(img[0], cmap='gray')\n",
    "        plt.title(f'lebel: {labels[j]}')\n",
    "    plt.show()"
   ],
   "metadata": {
    "collapsed": false,
    "pycharm": {
     "name": "#%%\n"
    }
   }
  },
  {
   "cell_type": "markdown",
   "source": [
    "# 4. 모델 선언"
   ],
   "metadata": {
    "collapsed": false,
    "pycharm": {
     "name": "#%% md\n"
    }
   }
  },
  {
   "cell_type": "code",
   "execution_count": 20,
   "outputs": [],
   "source": [
    "model = nn.Sequential(\n",
    "    nn.Linear(28 * 28, 256),\n",
    "    nn.Sigmoid(),\n",
    "    nn.Linear(256, 128),\n",
    "    nn.Linear(128, 10)\n",
    ")\n",
    "\n",
    "# parameter 보기\n",
    "# print(list(model.parameters()))\n",
    "model = model.to(device=device)"
   ],
   "metadata": {
    "collapsed": false,
    "pycharm": {
     "name": "#%%\n"
    }
   }
  },
  {
   "cell_type": "code",
   "execution_count": 14,
   "outputs": [],
   "source": [
    "def compute_acc(dloader=None, model=None):\n",
    "    correct = 0\n",
    "    total = 0\n",
    "\n",
    "    for i, [imgs, labels] in enumerate(dloader):\n",
    "        img = imgs\n",
    "        label = Variable(labels).to(device)\n",
    "\n",
    "        img = img.view(img.shape[0], img.shape[2] * img.shape[3])\n",
    "        img = Variable(img, requires_grad=False).to(device)\n",
    "\n",
    "        output = model(img)\n",
    "        _, output_index = torch.max(output, 1)\n",
    "\n",
    "        total += label.size(0)\n",
    "        correct += (output_index == label).sum().float()\n",
    "\n",
    "    print(f'Accuracy of Test Data: {100 * correct/total}')"
   ],
   "metadata": {
    "collapsed": false,
    "pycharm": {
     "name": "#%%\n"
    }
   }
  },
  {
   "cell_type": "code",
   "execution_count": 9,
   "outputs": [
    {
     "name": "stdout",
     "output_type": "stream",
     "text": [
      "Accuracy of Test Data: 11.868990898132324\n"
     ]
    }
   ],
   "source": [
    "compute_acc(test_loader, model=model)"
   ],
   "metadata": {
    "collapsed": false,
    "pycharm": {
     "name": "#%%\n"
    }
   }
  },
  {
   "cell_type": "markdown",
   "source": [
    "# 5. loss, optimizer"
   ],
   "metadata": {
    "collapsed": false,
    "pycharm": {
     "name": "#%% md\n"
    }
   }
  },
  {
   "cell_type": "code",
   "execution_count": 24,
   "outputs": [],
   "source": [
    "loss_fn = nn.CrossEntropyLoss().to(device)\n",
    "optimizer = optim.SGD(model.parameters(), lr=learning_rate)"
   ],
   "metadata": {
    "collapsed": false,
    "pycharm": {
     "name": "#%%\n"
    }
   }
  },
  {
   "cell_type": "markdown",
   "source": [
    "# 6. trian"
   ],
   "metadata": {
    "collapsed": false,
    "pycharm": {
     "name": "#%% md\n"
    }
   }
  },
  {
   "cell_type": "code",
   "execution_count": 25,
   "outputs": [
    {
     "name": "stderr",
     "output_type": "stream",
     "text": [
      "100%|██████████| 101/101 [05:22<00:00,  3.19s/it]\n"
     ]
    },
    {
     "name": "stdout",
     "output_type": "stream",
     "text": [
      "0..\n",
      "Accuracy of Test Data: 44.981971740722656\n",
      "loss: 2.1070950031280518\n",
      "10..\n",
      "Accuracy of Test Data: 90.2644271850586\n",
      "loss: 0.26667118072509766\n",
      "20..\n",
      "Accuracy of Test Data: 91.796875\n",
      "loss: 0.26577112078666687\n",
      "30..\n",
      "Accuracy of Test Data: 92.3477554321289\n",
      "loss: 0.34934329986572266\n",
      "40..\n",
      "Accuracy of Test Data: 92.8084945678711\n",
      "loss: 0.2129550278186798\n",
      "50..\n",
      "Accuracy of Test Data: 93.55970001220703\n",
      "loss: 0.2510397136211395\n",
      "60..\n",
      "Accuracy of Test Data: 94.19070434570312\n",
      "loss: 0.24228323996067047\n",
      "70..\n",
      "Accuracy of Test Data: 94.80168151855469\n",
      "loss: 0.27928298711776733\n",
      "80..\n",
      "Accuracy of Test Data: 95.28245544433594\n",
      "loss: 0.09007729589939117\n",
      "90..\n",
      "Accuracy of Test Data: 95.6630630493164\n",
      "loss: 0.22339043021202087\n",
      "100..\n",
      "Accuracy of Test Data: 96.01362609863281\n",
      "loss: 0.0714370608329773\n"
     ]
    }
   ],
   "source": [
    "from tqdm import tqdm\n",
    "\n",
    "for i in tqdm(range(epochs+1)):\n",
    "    for j, [imgs, labels] in enumerate(train_loader):\n",
    "        img = imgs\n",
    "        label = Variable(labels).to(device)\n",
    "\n",
    "        img = img.view(img.shape[0], img.shape[2] * img.shape[3])\n",
    "        img = Variable(img, requires_grad=False).to(device)\n",
    "\n",
    "        optimizer.zero_grad()\n",
    "        output = model(img)\n",
    "        loss = loss_fn(output, label)\n",
    "\n",
    "        loss.backward()\n",
    "        optimizer.step()\n",
    "\n",
    "    if i % 10 == 0:\n",
    "        print(f'{i}..')\n",
    "        compute_acc(test_loader, model=model)\n",
    "        print(f'loss: {loss}')"
   ],
   "metadata": {
    "collapsed": false,
    "pycharm": {
     "name": "#%%\n"
    }
   }
  },
  {
   "cell_type": "markdown",
   "source": [
    "# 7. test"
   ],
   "metadata": {
    "collapsed": false,
    "pycharm": {
     "name": "#%% md\n"
    }
   }
  },
  {
   "cell_type": "code",
   "execution_count": 26,
   "outputs": [
    {
     "name": "stdout",
     "output_type": "stream",
     "text": [
      "Accuracy of Test Data: 96.01362609863281\n"
     ]
    }
   ],
   "source": [
    "compute_acc(test_loader, model)"
   ],
   "metadata": {
    "collapsed": false,
    "pycharm": {
     "name": "#%%\n"
    }
   }
  },
  {
   "cell_type": "markdown",
   "source": [
    "# .8. 학습된 파라미터 저장"
   ],
   "metadata": {
    "collapsed": false,
    "pycharm": {
     "name": "#%% md\n"
    }
   }
  },
  {
   "cell_type": "code",
   "execution_count": 28,
   "outputs": [],
   "source": [
    "model_name = './model.pkl'\n",
    "torch.save(model, model_name)"
   ],
   "metadata": {
    "collapsed": false,
    "pycharm": {
     "name": "#%%\n"
    }
   }
  }
 ],
 "metadata": {
  "kernelspec": {
   "display_name": "Python 3",
   "language": "python",
   "name": "python3"
  },
  "language_info": {
   "codemirror_mode": {
    "name": "ipython",
    "version": 2
   },
   "file_extension": ".py",
   "mimetype": "text/x-python",
   "name": "python",
   "nbconvert_exporter": "python",
   "pygments_lexer": "ipython2",
   "version": "2.7.6"
  }
 },
 "nbformat": 4,
 "nbformat_minor": 0
}