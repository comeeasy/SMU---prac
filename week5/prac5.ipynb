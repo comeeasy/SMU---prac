{
 "cells": [
  {
   "cell_type": "markdown",
   "metadata": {
    "collapsed": true,
    "pycharm": {
     "name": "#%% md\n"
    }
   },
   "source": [
    "[github url]<br>\n",
    "https://github.com/comeeasy/SMU-DeepLearning-prac"
   ]
  },
  {
   "cell_type": "code",
   "execution_count": 58,
   "outputs": [],
   "source": [
    "import torch\n",
    "import torch.nn as nn\n",
    "import torch.optim as optim\n",
    "import torchvision.datasets as dset\n",
    "import torchvision.transforms as transforms\n",
    "from torch.utils.data import DataLoader\n",
    "from torch.autograd import Variable\n",
    "import matplotlib.pyplot as plt\n",
    "%matplotlib inline\n",
    "import numpy as np"
   ],
   "metadata": {
    "collapsed": false,
    "pycharm": {
     "name": "#%%\n"
    }
   }
  },
  {
   "cell_type": "markdown",
   "source": [
    "# 1. MNIST train, test dataset 가져오기"
   ],
   "metadata": {
    "collapsed": false
   }
  },
  {
   "cell_type": "code",
   "execution_count": 59,
   "outputs": [],
   "source": [
    "# \"\": 현재 폴더에 MNIST 있음\n",
    "mnist_train = dset.MNIST(root=\"../\",\n",
    "                         train=True,\n",
    "                         transform=transforms.ToTensor(),\n",
    "                         target_transform=None,\n",
    "                         download=True)\n",
    "mnist_test  = dset.MNIST(root=\"../\",\n",
    "                         train=False,\n",
    "                         transform=transforms.ToTensor(),\n",
    "                         target_transform=None,\n",
    "                         download=True)"
   ],
   "metadata": {
    "collapsed": false,
    "pycharm": {
     "name": "#%%\n"
    }
   }
  },
  {
   "cell_type": "markdown",
   "source": [
    "# 2. 대략적인 데이터 형태"
   ],
   "metadata": {
    "collapsed": false
   }
  },
  {
   "cell_type": "code",
   "execution_count": 60,
   "outputs": [
    {
     "name": "stdout",
     "output_type": "stream",
     "text": [
      "mnist_train 길이:60000\n",
      "mnist_test  길이:10000\n",
      "image data 형태:torch.Size([1, 1, 28, 28])\n",
      "label:5\n",
      "torch.Size([1, 3, 28, 28])\n"
     ]
    },
    {
     "data": {
      "text/plain": "<Figure size 432x288 with 1 Axes>",
      "image/png": "[encoded data removed]"
     },
     "metadata": {
      "needs_background": "light"
     },
     "output_type": "display_data"
    },
    {
     "data": {
      "text/plain": "<Figure size 432x288 with 1 Axes>",
      "image/png": "[encoded data removed]"
     },
     "metadata": {
      "needs_background": "light"
     },
     "output_type": "display_data"
    },
    {
     "data": {
      "text/plain": "<Figure size 432x288 with 1 Axes>",
      "image/png": "[encoded data removed]"
     },
     "metadata": {
      "needs_background": "light"
     },
     "output_type": "display_data"
    }
   ],
   "source": [
    "print(f'mnist_train 길이:{len(mnist_train)}')\n",
    "print(f'mnist_test  길이:{len(mnist_test)}')\n",
    "\n",
    "# 데이터 하나 형태\n",
    "image, label = mnist_train[0]\n",
    "\n",
    "image = image.view(-1, image.shape[0], image.shape[1], image.shape[2])\n",
    "print(f'image data 형태:{image.shape}')\n",
    "print(f'label:{label}')\n",
    "\n",
    "conv_layer = nn.Conv2d(in_channels=1, out_channels=3, kernel_size=3, padding=1)\n",
    "output = conv_layer(Variable(image))\n",
    "print(output.shape)\n",
    "\n",
    "# 그리기\n",
    "for i in range(3):\n",
    "    plt.imshow(output[0,i,:,:].data.numpy(), cmap='gray')\n",
    "    plt.show()"
   ],
   "metadata": {
    "collapsed": false,
    "pycharm": {
     "name": "#%%\n"
    }
   }
  },
  {
   "cell_type": "markdown",
   "source": [
    "# 3. 데이터 로드 함수"
   ],
   "metadata": {
    "collapsed": false
   }
  },
  {
   "cell_type": "code",
   "execution_count": 61,
   "outputs": [
    {
     "name": "stdout",
     "output_type": "stream",
     "text": [
      "[INFO] train with cuda\n"
     ]
    }
   ],
   "source": [
    "# hyper parameter\n",
    "batch_size = 512\n",
    "learning_rate = 1e-2\n",
    "epochs = 10\n",
    "\n",
    "device = 'cuda' if torch.cuda.is_available() else 'cpu'\n",
    "print(f'[INFO] train with {device}')\n",
    "\n",
    "train_loader = DataLoader(dataset=mnist_train,\n",
    "                          batch_size=batch_size,\n",
    "                          shuffle=True,\n",
    "                          num_workers=2,\n",
    "                          drop_last=True)\n",
    "test_loader  = DataLoader(dataset=mnist_test,\n",
    "                          batch_size=batch_size,\n",
    "                          shuffle=False,\n",
    "                          num_workers=2,\n",
    "                          drop_last=True)"
   ],
   "metadata": {
    "collapsed": false,
    "pycharm": {
     "name": "#%%\n"
    }
   }
  },
  {
   "cell_type": "markdown",
   "source": [
    "# 4. 모델 선언"
   ],
   "metadata": {
    "collapsed": false
   }
  },
  {
   "cell_type": "markdown",
   "source": [
    "![model](./model.PNG)"
   ],
   "metadata": {
    "collapsed": false,
    "pycharm": {
     "name": "#%% md\n"
    }
   }
  },
  {
   "cell_type": "code",
   "execution_count": 67,
   "outputs": [
    {
     "name": "stdout",
     "output_type": "stream",
     "text": [
      "torch.Size([16, 1, 5, 5])\n",
      "torch.Size([16])\n",
      "torch.Size([32, 16, 5, 5])\n",
      "torch.Size([32])\n",
      "torch.Size([64, 32, 5, 5])\n",
      "torch.Size([64])\n",
      "torch.Size([100, 3136])\n",
      "torch.Size([100])\n",
      "torch.Size([10, 100])\n",
      "torch.Size([10])\n"
     ]
    }
   ],
   "source": [
    "class CNN(nn.Module):\n",
    "    def __init__(self):\n",
    "        super(CNN, self).__init__()\n",
    "        self.layer = nn.Sequential( # 28x28\n",
    "            nn.Conv2d(1, 16, kernel_size=5, padding=2),\n",
    "            nn.ReLU(),  # 28x28\n",
    "\n",
    "            nn.Conv2d(16, 32, kernel_size=5, padding=2),    # 28x28\n",
    "            nn.ReLU(),\n",
    "            nn.MaxPool2d(2, 2), # 28x28 -> 14x14\n",
    "\n",
    "            nn.Conv2d(32, 64, kernel_size=5, padding=2),\n",
    "            nn.ReLU(),\n",
    "            nn.MaxPool2d(2, 2)\n",
    "        )\n",
    "        self.fc_layer = nn.Sequential(\n",
    "            nn.Flatten(),\n",
    "            nn.Linear(64 * 7 * 7, 100),\n",
    "            nn.ReLU(),\n",
    "            nn.Linear(100, 10)\n",
    "        )\n",
    "\n",
    "        for m in self.modules():\n",
    "            if isinstance(m, nn.Conv2d):\n",
    "                nn.init.kaiming_normal_(m.weight.data)\n",
    "                m.bias.data.fill_(0)\n",
    "            if isinstance(m, nn.Linear):\n",
    "                nn.init.kaiming_normal_(m.weight.data)\n",
    "                m.bias.data.fill_(0)\n",
    "\n",
    "    def forward(self, x):\n",
    "        x = self.layer(x)\n",
    "        x = self.fc_layer(x)\n",
    "\n",
    "        return x\n",
    "\n",
    "# parameter 보기\n",
    "model = CNN().to(device=device)\n",
    "\n",
    "for parameter in model.parameters():\n",
    "    print(parameter.shape)\n",
    "    # print(parameter)"
   ],
   "metadata": {
    "collapsed": false,
    "pycharm": {
     "name": "#%%\n"
    }
   }
  },
  {
   "cell_type": "markdown",
   "source": [
    "## optimizer"
   ],
   "metadata": {
    "collapsed": false,
    "pycharm": {
     "name": "#%% md\n"
    }
   }
  },
  {
   "cell_type": "code",
   "execution_count": 63,
   "outputs": [],
   "source": [
    "loss_fn = nn.CrossEntropyLoss().to(device)\n",
    "optimizer = optim.Adam(model.parameters(), lr=learning_rate)"
   ],
   "metadata": {
    "collapsed": false,
    "pycharm": {
     "name": "#%%\n"
    }
   }
  },
  {
   "cell_type": "markdown",
   "source": [
    "## train"
   ],
   "metadata": {
    "collapsed": false,
    "pycharm": {
     "name": "#%% md\n"
    }
   }
  },
  {
   "cell_type": "code",
   "execution_count": 64,
   "outputs": [],
   "source": [
    "def compute_acc(dloader=None, model=None):\n",
    "    model.eval()\n",
    "\n",
    "    correct = 0\n",
    "    total = 0\n",
    "\n",
    "    for i, [imgs, labels] in enumerate(dloader):\n",
    "        img = imgs.to(device)\n",
    "        label = Variable(labels).to(device)\n",
    "\n",
    "        output = model(img)\n",
    "        _, output_index = torch.max(output, 1)\n",
    "\n",
    "        total += label.size(0)\n",
    "        correct += (output_index == label).sum().float()\n",
    "\n",
    "    print(f'Accuracy of Test Data: {100 * correct/total}')"
   ],
   "metadata": {
    "collapsed": false,
    "pycharm": {
     "name": "#%%\n"
    }
   }
  },
  {
   "cell_type": "code",
   "execution_count": 65,
   "outputs": [
    {
     "name": "stderr",
     "output_type": "stream",
     "text": [
      "\n",
      "  0%|          | 0/11 [00:00<?, ?it/s]\u001B[A\n",
      "  9%|▉         | 1/11 [00:05<00:56,  5.64s/it]\u001B[A\n",
      " 18%|█▊        | 2/11 [00:11<00:50,  5.66s/it]\u001B[A\n",
      " 27%|██▋       | 3/11 [00:17<00:45,  5.67s/it]\u001B[A\n",
      " 36%|███▋      | 4/11 [00:22<00:39,  5.64s/it]\u001B[A\n",
      " 45%|████▌     | 5/11 [00:28<00:33,  5.62s/it]\u001B[A\n",
      " 55%|█████▍    | 6/11 [00:33<00:28,  5.61s/it]\u001B[A\n",
      " 64%|██████▎   | 7/11 [00:39<00:22,  5.61s/it]\u001B[A\n",
      " 73%|███████▎  | 8/11 [00:44<00:16,  5.61s/it]\u001B[A\n",
      " 82%|████████▏ | 9/11 [00:50<00:11,  5.61s/it]\u001B[A\n",
      " 91%|█████████ | 10/11 [00:56<00:05,  5.60s/it]\u001B[A\n",
      "100%|██████████| 11/11 [01:01<00:00,  5.62s/it]\u001B[A\n"
     ]
    },
    {
     "name": "stdout",
     "output_type": "stream",
     "text": [
      "0 tensor(0.0438, device='cuda:0', grad_fn=<NllLossBackward>)\n",
      "1 tensor(0.0314, device='cuda:0', grad_fn=<NllLossBackward>)\n",
      "2 tensor(0.0268, device='cuda:0', grad_fn=<NllLossBackward>)\n",
      "3 tensor(0.0435, device='cuda:0', grad_fn=<NllLossBackward>)\n",
      "4 tensor(0.0456, device='cuda:0', grad_fn=<NllLossBackward>)\n",
      "5 tensor(0.0170, device='cuda:0', grad_fn=<NllLossBackward>)\n",
      "6 tensor(0.0161, device='cuda:0', grad_fn=<NllLossBackward>)\n",
      "7 tensor(0.0289, device='cuda:0', grad_fn=<NllLossBackward>)\n",
      "8 tensor(0.0050, device='cuda:0', grad_fn=<NllLossBackward>)\n",
      "9 tensor(0.0465, device='cuda:0', grad_fn=<NllLossBackward>)\n",
      "10 tensor(0.0383, device='cuda:0', grad_fn=<NllLossBackward>)\n",
      "model saved in ./weights/mycnn.pkl\n"
     ]
    }
   ],
   "source": [
    "from tqdm import tqdm\n",
    "\n",
    "for i in tqdm(range(epochs+1)):\n",
    "    model.train()\n",
    "\n",
    "    for j, [imgs, labels] in enumerate(train_loader):\n",
    "        img = imgs.to(device)\n",
    "        label = Variable(labels).to(device)\n",
    "\n",
    "        # img = img.view(img.shape[0], img.shape[2] * img.shape[3])\n",
    "        # img = Variable(img, requires_grad=False).to(device)\n",
    "\n",
    "        optimizer.zero_grad()\n",
    "        output = model(img)\n",
    "        loss = loss_fn(output, label)\n",
    "\n",
    "        loss.backward()\n",
    "        optimizer.step()\n",
    "\n",
    "    print(i, loss)\n",
    "\n",
    "torch.save(model, './weights/mycnn.pkl')\n",
    "print(f'model saved in ./weights/mycnn.pkl')"
   ],
   "metadata": {
    "collapsed": false,
    "pycharm": {
     "name": "#%%\n"
    }
   }
  },
  {
   "cell_type": "code",
   "execution_count": 66,
   "outputs": [
    {
     "name": "stdout",
     "output_type": "stream",
     "text": [
      "Accuracy of Test Data: 98.94120025634766\n"
     ]
    }
   ],
   "source": [
    "try:\n",
    "    model_trained = torch.load('./weights/mycnn.pkl')\n",
    "    compute_acc(test_loader, model_trained)\n",
    "except:\n",
    "    print('model not restored')"
   ],
   "metadata": {
    "collapsed": false,
    "pycharm": {
     "name": "#%%\n"
    }
   }
  }
 ],
 "metadata": {
  "kernelspec": {
   "display_name": "Python 3",
   "language": "python",
   "name": "python3"
  },
  "language_info": {
   "codemirror_mode": {
    "name": "ipython",
    "version": 2
   },
   "file_extension": ".py",
   "mimetype": "text/x-python",
   "name": "python",
   "nbconvert_exporter": "python",
   "pygments_lexer": "ipython2",
   "version": "2.7.6"
  }
 },
 "nbformat": 4,
 "nbformat_minor": 0
}